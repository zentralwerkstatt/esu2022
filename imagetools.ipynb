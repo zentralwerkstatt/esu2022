{
  "nbformat": 4,
  "nbformat_minor": 0,
  "metadata": {
    "colab": {
      "name": "Imagetools.ipynb",
      "provenance": [],
      "collapsed_sections": [],
      "private_outputs": true
    },
    "kernelspec": {
      "name": "python3",
      "display_name": "Python 3"
    },
    "language_info": {
      "name": "python"
    },
    "gpuClass": "standard"
  },
  "cells": [
    {
      "cell_type": "markdown",
      "source": [
        "# Imagetools\n",
        "A collection of machine learing technqiues to make sense of large image datasets."
      ],
      "metadata": {
        "id": "NnYq-sQd8x_s"
      }
    },
    {
      "cell_type": "code",
      "source": [
        "%%capture\n",
        "!rm -rf toolbox\n",
        "!git clone https://github.com/zentralwerkstatt/toolbox\n",
        "!pip3 install git+https://github.com/openai/CLIP.git\n",
        "!pip3 install umap-learn\n",
        "\n",
        "import clip\n",
        "from toolbox import toolbox\n",
        "import numpy as np\n",
        "import PIL.Image\n",
        "from tqdm.notebook import tqdm\n",
        "from sklearn.cluster import KMeans\n",
        "from datetime import datetime\n",
        "import pandas as pd"
      ],
      "metadata": {
        "id": "mdCVvEzo_snF"
      },
      "execution_count": null,
      "outputs": []
    },
    {
      "cell_type": "code",
      "source": [
        "# Sample CSV file: Metropolitan Museum data\n",
        "# Simply upload your own CSV file to the notebook instance, or download programatically as per example below.\n",
        "!wget https://github.com/Rijksmuseum/rijksmuseum.github.io/releases/download/1.0.0/202001-rma-csv-collection.zip\n",
        "!unzip 202001-rma-csv-collection.zip -d ."
      ],
      "metadata": {
        "id": "JOWvMSJ3NgpR"
      },
      "execution_count": null,
      "outputs": []
    },
    {
      "cell_type": "code",
      "source": [
        "#@title Path to your CSV file with metadata and URLs\n",
        "dropna = True #@param {type:\"boolean\"}\n",
        "\n",
        "csv_path = \"urls.csv\" #@param {type:\"string\"}\n",
        "df = pd.read_csv(csv_path)\n",
        "if dropna:\n",
        "    df = df.dropna()\n",
        "\n",
        "selection = df # In case next cell is not run\n",
        "\n",
        "print(len(df), \"data points\")\n",
        "df.head()"
      ],
      "metadata": {
        "cellView": "form",
        "id": "2TS3i39_MuKV"
      },
      "execution_count": null,
      "outputs": []
    },
    {
      "cell_type": "code",
      "source": [
        "#@title CSV filters\n",
        "column = \"objectTitle[1]\" #@param {type:\"string\"}\n",
        "#@markdown contains (can contain multiple values separated by comma)\n",
        "value = \"draak, slang\" #@param {type:\"string\"}\n",
        "\n",
        "if \",\" in value:\n",
        "    values = [x.strip() for x in value.split(\",\")]\n",
        "else:\n",
        "    values = [value]\n",
        "\n",
        "selection = []\n",
        "for value in values:\n",
        "    selection.append(df.loc[df[column].str.contains(value, case=False)])\n",
        "selection = pd.concat(selection)\n",
        "\n",
        "# Add additional filters here\n",
        "\n",
        "print(len(selection), \"data points\")\n",
        "selection.head()"
      ],
      "metadata": {
        "id": "8etOoHsxM2Wj"
      },
      "execution_count": null,
      "outputs": []
    },
    {
      "cell_type": "code",
      "source": [
        "#@title Download images for selected rows\n",
        "column = \"url\" #@param {type:\"string\"}\n",
        "#@markdown Resize to max.:\n",
        "size = 200 #@param {type:\"integer\"}\n",
        "\n",
        "data_path = csv_path.split(\"/\")[-1].split(\".\")[0]\n",
        "toolbox.new_dir(data_path)\n",
        "\n",
        "urls = selection[column]\n",
        "for i, url in enumerate(tqdm(urls)):\n",
        "    img = toolbox.img_from_url(url)\n",
        "    img.thumbnail((size, size), PIL.Image.ANTIALIAS)\n",
        "    img.save(f\"{data_path}/{i:05d}.jpg\")\n",
        "    # Do this every iteration to allow early stopping\n",
        "    img_paths = toolbox.get_all_files(data_path, ext=\"jpg\")"
      ],
      "metadata": {
        "cellView": "form",
        "id": "1DQkddSiNarB"
      },
      "execution_count": null,
      "outputs": []
    },
    {
      "cell_type": "code",
      "source": [
        "img_paths = toolbox.get_all_files(\"\")[:500]"
      ],
      "metadata": {
        "id": "E_bcQupYWkG3"
      },
      "execution_count": null,
      "outputs": []
    },
    {
      "cell_type": "code",
      "source": [
        "#@title Sample the dataset\n",
        "no_samples = 3 #@param {type:\"integer\"}\n",
        "\n",
        "for n in range(no_samples):\n",
        "    img = toolbox.load_img(np.random.choice(img_paths))\n",
        "    img.thumbnail((200,200))\n",
        "    img_np = np.array(img)\n",
        "        \n",
        "    km = KMeans(n_clusters=5) # Set up algorithm to find 5 clusters\n",
        "    km.fit(img_np.reshape(-1, 3)) # Flatten image but keep color planes\n",
        "    centers = km.cluster_centers_ # Get the center points of the clusters\n",
        "    palette = toolbox.make_palette(centers) # Make a palette image\n",
        "\n",
        "    toolbox.show_img(img)\n",
        "    toolbox.show_img(palette)"
      ],
      "metadata": {
        "cellView": "form",
        "id": "0E2-IjRn9Jwj"
      },
      "execution_count": null,
      "outputs": []
    },
    {
      "cell_type": "code",
      "source": [
        "#@title Generate overview grid plot\n",
        "thumb_size =  30#@param {type:\"integer\"}\n",
        "show_in_notebook = True #@param {type:\"boolean\"}\n",
        "#@markdown (If not checked will save to file only to save notebook memory.)\n",
        "\n",
        "plot = toolbox.plot_imgs_grid(img_paths, thumb_size)\n",
        "timestamp = datetime.now().strftime(\"%d-%b-%Y-%H-%M-%S\")\n",
        "plot.save(f\"{timestamp}_grid_plot.jpg\")\n",
        "if show_in_notebook:\n",
        "    toolbox.show_img(plot)"
      ],
      "metadata": {
        "cellView": "form",
        "id": "oAGKh-m9ILHQ"
      },
      "execution_count": null,
      "outputs": []
    },
    {
      "cell_type": "code",
      "source": [
        "#@title Generate brighness cluster plot\n",
        "show_in_notebook = True #@param {type:\"boolean\"}\n",
        "#@markdown (If not checked will save to file only to save notebook memory.)\n",
        "\n",
        "print(\"Extracting features\")\n",
        "features = np.zeros((len(img_paths), 32*32*3))\n",
        "for i, path in enumerate(tqdm(img_paths)):\n",
        "    img = toolbox.load_img(path)\n",
        "    features[i] = toolbox.flatten_img(img, 32)\n",
        "\n",
        "print(\"Reducing dimensionality\")\n",
        "reduced_features = toolbox.reduce_features(features)\n",
        "\n",
        "print(\"Plotting images\")\n",
        "plot = toolbox.plot_imgs_features(img_paths, 50, reduced_features)\n",
        "\n",
        "timestamp = datetime.now().strftime(\"%d-%b-%Y-%H-%M-%S\")\n",
        "plot.save(f\"{timestamp}_brightness_plot.jpg\")\n",
        "if show_in_notebook:\n",
        "    toolbox.show_img(plot)"
      ],
      "metadata": {
        "cellView": "form",
        "id": "952IQC1NXvOk"
      },
      "execution_count": null,
      "outputs": []
    },
    {
      "cell_type": "code",
      "source": [
        "#@title Generate CLIP cluster plot\n",
        "show_in_notebook = True #@param {type:\"boolean\"}\n",
        "#@markdown (If not checked will save to file only to save notebook memory.)\n",
        "\n",
        "print(\"Extracting features\")\n",
        "features = np.zeros((len(img_paths), 512))\n",
        "for i, path in enumerate(tqdm(img_paths)):\n",
        "    img = toolbox.load_img(path)\n",
        "    features[i] = toolbox.CLIP_img(img)\n",
        "\n",
        "print(\"Reducing dimensionality\")\n",
        "reduced_features = toolbox.reduce_features(features)\n",
        "\n",
        "print(\"Plotting images\")\n",
        "plot = toolbox.plot_imgs_features(img_paths, 50, reduced_features)\n",
        "\n",
        "timestamp = datetime.now().strftime(\"%d-%b-%Y-%H-%M-%S\")\n",
        "plot.save(f\"{timestamp}_CLIP_plot.jpg\")\n",
        "if show_in_notebook:\n",
        "    toolbox.show_img(plot)"
      ],
      "metadata": {
        "cellView": "form",
        "id": "4OHabt_ZZNzd"
      },
      "execution_count": null,
      "outputs": []
    },
    {
      "cell_type": "code",
      "source": [
        "#@title Extract clusters\n",
        "n_clusters = 5 #@param {type:\"integer\"}\n",
        "km = KMeans(n_clusters=n_clusters)\n",
        "km.fit(features)\n",
        "\n",
        "clusters = {}\n",
        "for c in range(n_clusters):\n",
        "    clusters[c] = []\n",
        "    for i, img_path in enumerate(img_paths):\n",
        "        if km.labels_[i] == c:\n",
        "            clusters[c].append(img_path)  \n",
        "\n",
        "for c in range(n_clusters):\n",
        "    toolbox.show_img(toolbox.plot_imgs_grid(clusters[c], 50))"
      ],
      "metadata": {
        "id": "yid1PnbWoeRI",
        "cellView": "form"
      },
      "execution_count": null,
      "outputs": []
    },
    {
      "cell_type": "code",
      "source": [
        "#@title Add back metadata\n",
        "column = \"objectTitle[1]\" #@param {type:\"string\"}\n",
        "#@markdown contains\n",
        "value = \"draak\" #@param {type:\"string\"}\n",
        "show_in_notebook = True #@param {type:\"boolean\"}\n",
        "#@markdown (If not checked will save to file only to save notebook memory.)\n",
        "\n",
        "borders = []\n",
        "p = toolbox.random_palette(2) # No. of colors\n",
        "for i, img_path in enumerate(img_paths):\n",
        "    row = selection.iloc[i]\n",
        "    if value.lower() in row[column].lower():\n",
        "        borders.append(p[0])\n",
        "    # Add other conditions/colors here\n",
        "    else:\n",
        "        borders.append(p[1])\n",
        "\n",
        "print(\"Plotting images\")\n",
        "plot = toolbox.plot_imgs_features(img_paths, 50, reduced_features, borders)\n",
        "\n",
        "timestamp = datetime.now().strftime(\"%d-%b-%Y-%H-%M-%S\")\n",
        "plot.save(f\"{timestamp}_CLIP_plot_classes.jpg\")\n",
        "if show_in_notebook:\n",
        "    toolbox.show_img(plot)"
      ],
      "metadata": {
        "id": "X0m9ElEYohoL"
      },
      "execution_count": null,
      "outputs": []
    }
  ]
}